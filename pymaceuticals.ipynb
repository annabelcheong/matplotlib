{
 "metadata": {
  "language_info": {
   "codemirror_mode": {
    "name": "ipython",
    "version": 3
   },
   "file_extension": ".py",
   "mimetype": "text/x-python",
   "name": "python",
   "nbconvert_exporter": "python",
   "pygments_lexer": "ipython3",
   "version": "3.6.10-final"
  },
  "orig_nbformat": 2,
  "kernelspec": {
   "name": "python3",
   "display_name": "Python 3",
   "language": "python"
  }
 },
 "nbformat": 4,
 "nbformat_minor": 2,
 "cells": [
  {
   "cell_type": "code",
   "execution_count": 301,
   "metadata": {},
   "outputs": [],
   "source": [
    "#Dependencies\n",
    "import matplotlib.pyplot as plt\n",
    "import pandas as pd\n",
    "import scipy.stats as st"
   ]
  },
  {
   "cell_type": "code",
   "execution_count": 302,
   "metadata": {},
   "outputs": [
    {
     "output_type": "stream",
     "name": "stdout",
     "text": [
      "Number of rows before removing duplicates:\n1893\n"
     ]
    },
    {
     "output_type": "execute_result",
     "data": {
      "text/plain": [
       "     Mouse ID Drug Regimen   Sex  Age_months  Weight (g)  Timepoint  \\\n",
       "0        k403     Ramicane  Male          21          16          0   \n",
       "1        k403     Ramicane  Male          21          16          5   \n",
       "2        k403     Ramicane  Male          21          16         10   \n",
       "3        k403     Ramicane  Male          21          16         15   \n",
       "4        k403     Ramicane  Male          21          16         20   \n",
       "...       ...          ...   ...         ...         ...        ...   \n",
       "1888     z969     Naftisol  Male           9          30         25   \n",
       "1889     z969     Naftisol  Male           9          30         30   \n",
       "1890     z969     Naftisol  Male           9          30         35   \n",
       "1891     z969     Naftisol  Male           9          30         40   \n",
       "1892     z969     Naftisol  Male           9          30         45   \n",
       "\n",
       "      Tumor Volume (mm3)  Metastatic Sites  \n",
       "0              45.000000                 0  \n",
       "1              38.825898                 0  \n",
       "2              35.014271                 1  \n",
       "3              34.223992                 1  \n",
       "4              32.997729                 1  \n",
       "...                  ...               ...  \n",
       "1888           63.145652                 2  \n",
       "1889           65.841013                 3  \n",
       "1890           69.176246                 4  \n",
       "1891           70.314904                 4  \n",
       "1892           73.867845                 4  \n",
       "\n",
       "[1893 rows x 8 columns]"
      ],
      "text/html": "<div>\n<style scoped>\n    .dataframe tbody tr th:only-of-type {\n        vertical-align: middle;\n    }\n\n    .dataframe tbody tr th {\n        vertical-align: top;\n    }\n\n    .dataframe thead th {\n        text-align: right;\n    }\n</style>\n<table border=\"1\" class=\"dataframe\">\n  <thead>\n    <tr style=\"text-align: right;\">\n      <th></th>\n      <th>Mouse ID</th>\n      <th>Drug Regimen</th>\n      <th>Sex</th>\n      <th>Age_months</th>\n      <th>Weight (g)</th>\n      <th>Timepoint</th>\n      <th>Tumor Volume (mm3)</th>\n      <th>Metastatic Sites</th>\n    </tr>\n  </thead>\n  <tbody>\n    <tr>\n      <th>0</th>\n      <td>k403</td>\n      <td>Ramicane</td>\n      <td>Male</td>\n      <td>21</td>\n      <td>16</td>\n      <td>0</td>\n      <td>45.000000</td>\n      <td>0</td>\n    </tr>\n    <tr>\n      <th>1</th>\n      <td>k403</td>\n      <td>Ramicane</td>\n      <td>Male</td>\n      <td>21</td>\n      <td>16</td>\n      <td>5</td>\n      <td>38.825898</td>\n      <td>0</td>\n    </tr>\n    <tr>\n      <th>2</th>\n      <td>k403</td>\n      <td>Ramicane</td>\n      <td>Male</td>\n      <td>21</td>\n      <td>16</td>\n      <td>10</td>\n      <td>35.014271</td>\n      <td>1</td>\n    </tr>\n    <tr>\n      <th>3</th>\n      <td>k403</td>\n      <td>Ramicane</td>\n      <td>Male</td>\n      <td>21</td>\n      <td>16</td>\n      <td>15</td>\n      <td>34.223992</td>\n      <td>1</td>\n    </tr>\n    <tr>\n      <th>4</th>\n      <td>k403</td>\n      <td>Ramicane</td>\n      <td>Male</td>\n      <td>21</td>\n      <td>16</td>\n      <td>20</td>\n      <td>32.997729</td>\n      <td>1</td>\n    </tr>\n    <tr>\n      <th>...</th>\n      <td>...</td>\n      <td>...</td>\n      <td>...</td>\n      <td>...</td>\n      <td>...</td>\n      <td>...</td>\n      <td>...</td>\n      <td>...</td>\n    </tr>\n    <tr>\n      <th>1888</th>\n      <td>z969</td>\n      <td>Naftisol</td>\n      <td>Male</td>\n      <td>9</td>\n      <td>30</td>\n      <td>25</td>\n      <td>63.145652</td>\n      <td>2</td>\n    </tr>\n    <tr>\n      <th>1889</th>\n      <td>z969</td>\n      <td>Naftisol</td>\n      <td>Male</td>\n      <td>9</td>\n      <td>30</td>\n      <td>30</td>\n      <td>65.841013</td>\n      <td>3</td>\n    </tr>\n    <tr>\n      <th>1890</th>\n      <td>z969</td>\n      <td>Naftisol</td>\n      <td>Male</td>\n      <td>9</td>\n      <td>30</td>\n      <td>35</td>\n      <td>69.176246</td>\n      <td>4</td>\n    </tr>\n    <tr>\n      <th>1891</th>\n      <td>z969</td>\n      <td>Naftisol</td>\n      <td>Male</td>\n      <td>9</td>\n      <td>30</td>\n      <td>40</td>\n      <td>70.314904</td>\n      <td>4</td>\n    </tr>\n    <tr>\n      <th>1892</th>\n      <td>z969</td>\n      <td>Naftisol</td>\n      <td>Male</td>\n      <td>9</td>\n      <td>30</td>\n      <td>45</td>\n      <td>73.867845</td>\n      <td>4</td>\n    </tr>\n  </tbody>\n</table>\n<p>1893 rows × 8 columns</p>\n</div>"
     },
     "metadata": {},
     "execution_count": 302
    }
   ],
   "source": [
    "#Assign csv file path to variable\n",
    "mouse_metadata_path = \"Resources/Mouse_metadata.csv\"\n",
    "study_results_path = \"Resources/Study_results.csv\"\n",
    "\n",
    "#Read csv file\n",
    "mouse_metadata = pd.read_csv(mouse_metadata_path)\n",
    "study_results = pd.read_csv(study_results_path)\n",
    "\n",
    "# #Test to see a sample of the 2 dataframes\n",
    "# print(mouse_metadata.head(3))\n",
    "# print(study_results.head(3))\n",
    "\n",
    "# Combine the data into a single dataset\n",
    "mouse_merged=pd.merge(mouse_metadata,study_results, on=\"Mouse ID\", how=\"outer\")\n",
    "print(\"Number of rows before removing duplicates:\")\n",
    "print(mouse_merged.count()[\"Mouse ID\"])\n",
    "# Display the data table for preview\n",
    "mouse_merged"
   ]
  },
  {
   "cell_type": "code",
   "execution_count": 303,
   "metadata": {},
   "outputs": [
    {
     "output_type": "stream",
     "name": "stdout",
     "text": [
      "Number of rows before clean: 1893\n"
     ]
    }
   ],
   "source": [
    " # Merged and uncleaned Data. \n",
    " # Checking the number of mice rows in dataframe\n",
    " number_of_rows=mouse_merged[\"Mouse ID\"].count()\n",
    " print(f\"Number of rows before clean: {number_of_rows}\")"
   ]
  },
  {
   "cell_type": "code",
   "execution_count": 304,
   "metadata": {},
   "outputs": [
    {
     "output_type": "stream",
     "name": "stdout",
     "text": [
      "    Mouse ID Drug Regimen     Sex  Age_months  Weight (g)  Timepoint  \\\n908     g989     Propriva  Female          21          26          0   \n909     g989     Propriva  Female          21          26          0   \n910     g989     Propriva  Female          21          26          5   \n911     g989     Propriva  Female          21          26          5   \n912     g989     Propriva  Female          21          26         10   \n913     g989     Propriva  Female          21          26         10   \n914     g989     Propriva  Female          21          26         15   \n915     g989     Propriva  Female          21          26         15   \n916     g989     Propriva  Female          21          26         20   \n917     g989     Propriva  Female          21          26         20   \n\n     Tumor Volume (mm3)  Metastatic Sites  \n908           45.000000                 0  \n909           45.000000                 0  \n910           48.786801                 0  \n911           47.570392                 0  \n912           51.745156                 0  \n913           49.880528                 0  \n914           51.325852                 1  \n915           53.442020                 0  \n916           55.326122                 1  \n917           54.657650                 1  \n\nNumber of duplicated rows to be deleted:\n5\n"
     ]
    }
   ],
   "source": [
    "## Getting the duplicate mice by ID number that shows up for Mouse ID and Timepoint. \n",
    "##View all rows which are duplicated for subset Mouse ID and Timepoint: duplicated_rows. keep=False will print out everything duplicated including first and last occurence. Else, remove it to see only the duplicates aftr first occurence that is intended to be deleted.\n",
    " \n",
    "duplicated_rows=mouse_merged[mouse_merged.duplicated([\"Mouse ID\",\"Timepoint\"],keep=False)]\n",
    "print(duplicated_rows)\n",
    "\n",
    "#Number of rows to be deleted. Code using keep=True\n",
    "duplicated_rows=mouse_merged[mouse_merged.duplicated([\"Mouse ID\",\"Timepoint\"])]\n",
    "duplicated_rows\n",
    "print(\"\\nNumber of duplicated rows to be deleted:\")\n",
    "print(duplicated_rows.count()[\"Mouse ID\"])"
   ]
  },
  {
   "cell_type": "code",
   "execution_count": 305,
   "metadata": {},
   "outputs": [
    {
     "output_type": "execute_result",
     "data": {
      "text/plain": [
       "     Mouse ID Drug Regimen   Sex  Age_months  Weight (g)  Timepoint  \\\n",
       "0        k403     Ramicane  Male          21          16          0   \n",
       "1        k403     Ramicane  Male          21          16          5   \n",
       "2        k403     Ramicane  Male          21          16         10   \n",
       "3        k403     Ramicane  Male          21          16         15   \n",
       "4        k403     Ramicane  Male          21          16         20   \n",
       "...       ...          ...   ...         ...         ...        ...   \n",
       "1888     z969     Naftisol  Male           9          30         25   \n",
       "1889     z969     Naftisol  Male           9          30         30   \n",
       "1890     z969     Naftisol  Male           9          30         35   \n",
       "1891     z969     Naftisol  Male           9          30         40   \n",
       "1892     z969     Naftisol  Male           9          30         45   \n",
       "\n",
       "      Tumor Volume (mm3)  Metastatic Sites  \n",
       "0              45.000000                 0  \n",
       "1              38.825898                 0  \n",
       "2              35.014271                 1  \n",
       "3              34.223992                 1  \n",
       "4              32.997729                 1  \n",
       "...                  ...               ...  \n",
       "1888           63.145652                 2  \n",
       "1889           65.841013                 3  \n",
       "1890           69.176246                 4  \n",
       "1891           70.314904                 4  \n",
       "1892           73.867845                 4  \n",
       "\n",
       "[1888 rows x 8 columns]"
      ],
      "text/html": "<div>\n<style scoped>\n    .dataframe tbody tr th:only-of-type {\n        vertical-align: middle;\n    }\n\n    .dataframe tbody tr th {\n        vertical-align: top;\n    }\n\n    .dataframe thead th {\n        text-align: right;\n    }\n</style>\n<table border=\"1\" class=\"dataframe\">\n  <thead>\n    <tr style=\"text-align: right;\">\n      <th></th>\n      <th>Mouse ID</th>\n      <th>Drug Regimen</th>\n      <th>Sex</th>\n      <th>Age_months</th>\n      <th>Weight (g)</th>\n      <th>Timepoint</th>\n      <th>Tumor Volume (mm3)</th>\n      <th>Metastatic Sites</th>\n    </tr>\n  </thead>\n  <tbody>\n    <tr>\n      <th>0</th>\n      <td>k403</td>\n      <td>Ramicane</td>\n      <td>Male</td>\n      <td>21</td>\n      <td>16</td>\n      <td>0</td>\n      <td>45.000000</td>\n      <td>0</td>\n    </tr>\n    <tr>\n      <th>1</th>\n      <td>k403</td>\n      <td>Ramicane</td>\n      <td>Male</td>\n      <td>21</td>\n      <td>16</td>\n      <td>5</td>\n      <td>38.825898</td>\n      <td>0</td>\n    </tr>\n    <tr>\n      <th>2</th>\n      <td>k403</td>\n      <td>Ramicane</td>\n      <td>Male</td>\n      <td>21</td>\n      <td>16</td>\n      <td>10</td>\n      <td>35.014271</td>\n      <td>1</td>\n    </tr>\n    <tr>\n      <th>3</th>\n      <td>k403</td>\n      <td>Ramicane</td>\n      <td>Male</td>\n      <td>21</td>\n      <td>16</td>\n      <td>15</td>\n      <td>34.223992</td>\n      <td>1</td>\n    </tr>\n    <tr>\n      <th>4</th>\n      <td>k403</td>\n      <td>Ramicane</td>\n      <td>Male</td>\n      <td>21</td>\n      <td>16</td>\n      <td>20</td>\n      <td>32.997729</td>\n      <td>1</td>\n    </tr>\n    <tr>\n      <th>...</th>\n      <td>...</td>\n      <td>...</td>\n      <td>...</td>\n      <td>...</td>\n      <td>...</td>\n      <td>...</td>\n      <td>...</td>\n      <td>...</td>\n    </tr>\n    <tr>\n      <th>1888</th>\n      <td>z969</td>\n      <td>Naftisol</td>\n      <td>Male</td>\n      <td>9</td>\n      <td>30</td>\n      <td>25</td>\n      <td>63.145652</td>\n      <td>2</td>\n    </tr>\n    <tr>\n      <th>1889</th>\n      <td>z969</td>\n      <td>Naftisol</td>\n      <td>Male</td>\n      <td>9</td>\n      <td>30</td>\n      <td>30</td>\n      <td>65.841013</td>\n      <td>3</td>\n    </tr>\n    <tr>\n      <th>1890</th>\n      <td>z969</td>\n      <td>Naftisol</td>\n      <td>Male</td>\n      <td>9</td>\n      <td>30</td>\n      <td>35</td>\n      <td>69.176246</td>\n      <td>4</td>\n    </tr>\n    <tr>\n      <th>1891</th>\n      <td>z969</td>\n      <td>Naftisol</td>\n      <td>Male</td>\n      <td>9</td>\n      <td>30</td>\n      <td>40</td>\n      <td>70.314904</td>\n      <td>4</td>\n    </tr>\n    <tr>\n      <th>1892</th>\n      <td>z969</td>\n      <td>Naftisol</td>\n      <td>Male</td>\n      <td>9</td>\n      <td>30</td>\n      <td>45</td>\n      <td>73.867845</td>\n      <td>4</td>\n    </tr>\n  </tbody>\n</table>\n<p>1888 rows × 8 columns</p>\n</div>"
     },
     "metadata": {},
     "execution_count": 305
    }
   ],
   "source": [
    "##CLEAN, MERGED DATA ##\n",
    "#Remove duplicate rows, keep the first duplicated row and remove the others (keep=\"first\": default API ref does this already)\n",
    "clean_merged=mouse_merged.drop_duplicates(subset=[\"Mouse ID\",\"Timepoint\"])\n",
    "clean_merged"
   ]
  },
  {
   "cell_type": "code",
   "execution_count": 306,
   "metadata": {},
   "outputs": [
    {
     "output_type": "stream",
     "name": "stdout",
     "text": [
      "Number of rows after clean: 1888\n"
     ]
    }
   ],
   "source": [
    "# Merged and cleaned Data. \n",
    "# Checking the number of mice rows in dataframe\n",
    "number_of_rows=clean_merged[\"Mouse ID\"].count()\n",
    "print(f\"Number of rows after clean: {number_of_rows}\")"
   ]
  },
  {
   "source": [
    "SUMMARY STATISTICS"
   ],
   "cell_type": "markdown",
   "metadata": {}
  },
  {
   "cell_type": "code",
   "execution_count": 307,
   "metadata": {},
   "outputs": [
    {
     "output_type": "stream",
     "name": "stdout",
     "text": [
      "Mean of Tumor Volume:\n",
      "Drug Regimen\n",
      "Capomulin    40.675741\n",
      "Ceftamin     52.591172\n",
      "Infubinol    52.884795\n",
      "Ketapril     55.235638\n",
      "Naftisol     54.331565\n",
      "Placebo      54.033581\n",
      "Propriva     52.393463\n",
      "Ramicane     40.216745\n",
      "Stelasyn     54.233149\n",
      "Zoniferol    53.236507\n",
      "Name: Tumor Volume (mm3), dtype: float64\n",
      "\n",
      "Median of Tumor Volume:\n",
      "Drug Regimen\n",
      "Capomulin    41.557809\n",
      "Ceftamin     51.776157\n",
      "Infubinol    51.820584\n",
      "Ketapril     53.698743\n",
      "Naftisol     52.509285\n",
      "Placebo      52.288934\n",
      "Propriva     50.909965\n",
      "Ramicane     40.673236\n",
      "Stelasyn     52.431737\n",
      "Zoniferol    51.818479\n",
      "Name: Tumor Volume (mm3), dtype: float64\n",
      "\n",
      "Variance of Tumor Volume:\n",
      "Drug Regimen\n",
      "Capomulin    24.947764\n",
      "Ceftamin     39.290177\n",
      "Infubinol    43.128684\n",
      "Ketapril     68.553577\n",
      "Naftisol     66.173479\n",
      "Placebo      61.168083\n",
      "Propriva     43.138803\n",
      "Ramicane     23.486704\n",
      "Stelasyn     59.450562\n",
      "Zoniferol    48.533355\n",
      "Name: Tumor Volume (mm3), dtype: float64\n",
      "\n",
      "Standard Deviation of Tumor Volume:\n",
      "Drug Regimen\n",
      "Capomulin    4.994774\n",
      "Ceftamin     6.268188\n",
      "Infubinol    6.567243\n",
      "Ketapril     8.279709\n",
      "Naftisol     8.134708\n",
      "Placebo      7.821003\n",
      "Propriva     6.568014\n",
      "Ramicane     4.846308\n",
      "Stelasyn     7.710419\n",
      "Zoniferol    6.966589\n",
      "Name: Tumor Volume (mm3), dtype: float64\n",
      "\n",
      "Standard Error of the Mean of Tumor Volume:\n",
      "Drug Regimen\n",
      "Capomulin    0.329346\n",
      "Ceftamin     0.469821\n",
      "Infubinol    0.492236\n",
      "Ketapril     0.603860\n",
      "Naftisol     0.596466\n",
      "Placebo      0.581331\n",
      "Propriva     0.525862\n",
      "Ramicane     0.320955\n",
      "Stelasyn     0.573111\n",
      "Zoniferol    0.516398\n",
      "Name: Tumor Volume (mm3), dtype: float64\n",
      "\n"
     ]
    }
   ],
   "source": [
    "# Generate a summary statistics table of mean, median, variance, standard deviation, and SEM of the tumor volume for each regimen\n",
    "# This method produces everything in a single groupby function\n",
    "\n",
    "#Make a copy of the clean_merged dataframe\n",
    "clean_grouped=clean_merged.copy()\n",
    "clean_grouped\n",
    "\n",
    "#Group by Drug Regimen types\n",
    "regimen=clean_grouped.groupby([\"Drug Regimen\"])\n",
    "\n",
    "#Attain for volume, the mean\n",
    "mean=regimen.mean()[\"Tumor Volume (mm3)\"]\n",
    "print(f\"Mean of Tumor Volume:\\n{mean}\\n\")\n",
    "\n",
    "#Attain for volume, the median\n",
    "median=regimen.median()[\"Tumor Volume (mm3)\"]\n",
    "print(f\"Median of Tumor Volume:\\n{median}\\n\")\n",
    "\n",
    "#Attain for volume, the variance\n",
    "variance=regimen.var()[\"Tumor Volume (mm3)\"]\n",
    "print(f\"Variance of Tumor Volume:\\n{variance}\\n\")\n",
    "\n",
    "#Attain for volume, the standard deviation\n",
    "std_dev=regimen.std()[\"Tumor Volume (mm3)\"]\n",
    "print(f\"Standard Deviation of Tumor Volume:\\n{std_dev}\\n\")\n",
    "\n",
    "#Attain for volume, the standard error of the mean of the groups\n",
    "std_error=regimen.sem()[\"Tumor Volume (mm3)\"]\n",
    "print(f\"Standard Error of the Mean of Tumor Volume:\\n{std_error}\\n\")"
   ]
  },
  {
   "cell_type": "code",
   "execution_count": null,
   "metadata": {},
   "outputs": [],
   "source": []
  }
 ]
}